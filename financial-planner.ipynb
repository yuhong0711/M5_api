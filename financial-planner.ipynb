{
 "cells": [
  {
   "cell_type": "markdown",
   "metadata": {},
   "source": [
    "# Unit 5 - Financial Planning"
   ]
  },
  {
   "cell_type": "code",
   "execution_count": 2,
   "metadata": {},
   "outputs": [
    {
     "data": {
      "text/plain": [
       "True"
      ]
     },
     "execution_count": 2,
     "metadata": {},
     "output_type": "execute_result"
    }
   ],
   "source": [
    "# Initial imports\n",
    "import os\n",
    "import requests\n",
    "import pandas as pd\n",
    "import json\n",
    "from dotenv import load_dotenv\n",
    "import alpaca_trade_api as tradeapi\n",
    "from MCForecastTools import MCSimulation\n",
    "\n",
    "%matplotlib inline\n",
    "\n",
    "# Load .env enviroment variables\n",
    "load_dotenv()"
   ]
  },
  {
   "cell_type": "markdown",
   "metadata": {},
   "source": [
    "## Part 1 - Personal Finance Planner"
   ]
  },
  {
   "cell_type": "markdown",
   "metadata": {},
   "source": [
    "### Collect Crypto Prices Using the `requests` Library"
   ]
  },
  {
   "cell_type": "code",
   "execution_count": 3,
   "metadata": {
    "collapsed": true,
    "jupyter": {
     "outputs_hidden": true
    },
    "tags": []
   },
   "outputs": [
    {
     "data": {
      "text/plain": [
       "{'data': {'1': {'id': 1,\n",
       "   'name': 'Bitcoin',\n",
       "   'symbol': 'BTC',\n",
       "   'website_slug': 'bitcoin',\n",
       "   'rank': 1,\n",
       "   'circulating_supply': 19193375,\n",
       "   'total_supply': 19193375,\n",
       "   'max_supply': 21000000,\n",
       "   'quotes': {'USD': {'price': 20674.0,\n",
       "     'volume_24h': 30299406777,\n",
       "     'market_cap': 396774405973,\n",
       "     'percentage_change_1h': -0.539363777469691,\n",
       "     'percentage_change_24h': -1.22602852754848,\n",
       "     'percentage_change_7d': 7.65544904549852,\n",
       "     'percent_change_1h': -0.539363777469691,\n",
       "     'percent_change_24h': -1.22602852754848,\n",
       "     'percent_change_7d': 7.65544904549852}},\n",
       "   'last_updated': 1667125472}},\n",
       " 'metadata': {'timestamp': 1667125472,\n",
       "  'num_cryptocurrencies': 3116,\n",
       "  'error': None}}"
      ]
     },
     "execution_count": 3,
     "metadata": {},
     "output_type": "execute_result"
    }
   ],
   "source": [
    "# Crypto API URLs\n",
    "btc_url = \"https://api.alternative.me/v2/ticker/Bitcoin/?convert=USD\"\n",
    "eth_url = \"https://api.alternative.me/v2/ticker/Ethereum/?convert=USD\"\n",
    "\n",
    "# Fetch current BTC price\n",
    "btc_response = requests.get(btc_url)\n",
    "btc_data = btc_response.json()\n",
    "btc_data"
   ]
  },
  {
   "cell_type": "code",
   "execution_count": 4,
   "metadata": {
    "tags": []
   },
   "outputs": [
    {
     "data": {
      "text/plain": [
       "20674.0"
      ]
     },
     "execution_count": 4,
     "metadata": {},
     "output_type": "execute_result"
    }
   ],
   "source": [
    "btc_current_price = btc_data['data']['1']['quotes']['USD']['price']\n",
    "btc_current_price"
   ]
  },
  {
   "cell_type": "code",
   "execution_count": 5,
   "metadata": {
    "collapsed": true,
    "jupyter": {
     "outputs_hidden": true
    },
    "tags": []
   },
   "outputs": [
    {
     "data": {
      "text/plain": [
       "{'data': {'1027': {'id': 1027,\n",
       "   'name': 'Ethereum',\n",
       "   'symbol': 'ETH',\n",
       "   'website_slug': 'ethereum',\n",
       "   'rank': 2,\n",
       "   'circulating_supply': 120522144,\n",
       "   'total_supply': 120522144,\n",
       "   'max_supply': 120522144,\n",
       "   'quotes': {'USD': {'price': 1596.87,\n",
       "     'volume_24h': 14346381326,\n",
       "     'market_cap': 192490703622,\n",
       "     'percentage_change_1h': -1.20838718798801,\n",
       "     'percentage_change_24h': -2.58857582751415,\n",
       "     'percentage_change_7d': 21.5486057994701,\n",
       "     'percent_change_1h': -1.20838718798801,\n",
       "     'percent_change_24h': -2.58857582751415,\n",
       "     'percent_change_7d': 21.5486057994701}},\n",
       "   'last_updated': 1667125502}},\n",
       " 'metadata': {'timestamp': 1667125502,\n",
       "  'num_cryptocurrencies': 3116,\n",
       "  'error': None}}"
      ]
     },
     "execution_count": 5,
     "metadata": {},
     "output_type": "execute_result"
    }
   ],
   "source": [
    "# Fetch current ETH price\n",
    "eth_response = requests.get(eth_url)\n",
    "eth_data = json.loads(eth_response.content.decode('utf-8'))\n",
    "eth_data"
   ]
  },
  {
   "cell_type": "code",
   "execution_count": 6,
   "metadata": {},
   "outputs": [
    {
     "data": {
      "text/plain": [
       "1596.87"
      ]
     },
     "execution_count": 6,
     "metadata": {},
     "output_type": "execute_result"
    }
   ],
   "source": [
    "eth_current_price = eth_data['data']['1027']['quotes']['USD']['price']\n",
    "eth_current_price"
   ]
  },
  {
   "cell_type": "code",
   "execution_count": 7,
   "metadata": {},
   "outputs": [
    {
     "name": "stdout",
     "output_type": "stream",
     "text": [
      "The current value of your 1 BTC is $20674.00\n",
      "The current value of your 1 ETH is $1596.87\n"
     ]
    }
   ],
   "source": [
    "# Set current amount of crypto assets\n",
    "my_btc = 1\n",
    "my_eth= 1\n",
    "\n",
    "# Compute current value of my crpto\n",
    "my_btc_value = my_btc * btc_current_price\n",
    "my_eth_value = my_eth * eth_current_price\n",
    "\n",
    "# Print current crypto wallet balance\n",
    "print(f\"The current value of your {my_btc} BTC is ${my_btc_value:0.2f}\")\n",
    "print(f\"The current value of your {my_eth} ETH is ${my_eth_value:0.2f}\")"
   ]
  },
  {
   "cell_type": "markdown",
   "metadata": {},
   "source": [
    "### Collect Investments Data Using Alpaca: `SPY` (stocks) and `AGG` (bonds)"
   ]
  },
  {
   "cell_type": "code",
   "execution_count": 8,
   "metadata": {},
   "outputs": [],
   "source": [
    "# Set Alpaca API key and secret\n",
    "alpaca_api_key = os.getenv(\"ALPACA_API_KEY\")\n",
    "alpaca_secret_key = os.getenv(\"ALPACA_SECRET_KEY\")\n",
    "\n",
    "# Create the Alpaca API object\n",
    "alpaca = tradeapi.REST(\n",
    "    alpaca_api_key,\n",
    "    alpaca_secret_key,\n",
    "    api_version=\"v2\")"
   ]
  },
  {
   "cell_type": "code",
   "execution_count": 9,
   "metadata": {},
   "outputs": [],
   "source": [
    "# Format current date as ISO format\n",
    "today = pd.Timestamp(\"2022-10-27\", tz=\"America/New_York\").isoformat()\n",
    "\n",
    "# Set the tickers\n",
    "tickers = [\"AGG\", \"SPY\"]\n",
    "\n",
    "# Set timeframe to \"1Day\" for Alpaca API\n",
    "timeframe = \"1Day\""
   ]
  },
  {
   "cell_type": "code",
   "execution_count": 10,
   "metadata": {},
   "outputs": [
    {
     "data": {
      "text/html": [
       "<div>\n",
       "<style scoped>\n",
       "    .dataframe tbody tr th:only-of-type {\n",
       "        vertical-align: middle;\n",
       "    }\n",
       "\n",
       "    .dataframe tbody tr th {\n",
       "        vertical-align: top;\n",
       "    }\n",
       "\n",
       "    .dataframe thead th {\n",
       "        text-align: right;\n",
       "    }\n",
       "</style>\n",
       "<table border=\"1\" class=\"dataframe\">\n",
       "  <thead>\n",
       "    <tr style=\"text-align: right;\">\n",
       "      <th></th>\n",
       "      <th>open</th>\n",
       "      <th>high</th>\n",
       "      <th>low</th>\n",
       "      <th>close</th>\n",
       "      <th>volume</th>\n",
       "      <th>trade_count</th>\n",
       "      <th>vwap</th>\n",
       "      <th>symbol</th>\n",
       "    </tr>\n",
       "    <tr>\n",
       "      <th>timestamp</th>\n",
       "      <th></th>\n",
       "      <th></th>\n",
       "      <th></th>\n",
       "      <th></th>\n",
       "      <th></th>\n",
       "      <th></th>\n",
       "      <th></th>\n",
       "      <th></th>\n",
       "    </tr>\n",
       "  </thead>\n",
       "  <tbody>\n",
       "    <tr>\n",
       "      <th>2022-10-27 04:00:00+00:00</th>\n",
       "      <td>95.21</td>\n",
       "      <td>95.6204</td>\n",
       "      <td>94.99</td>\n",
       "      <td>95.46</td>\n",
       "      <td>6874350</td>\n",
       "      <td>22018</td>\n",
       "      <td>95.420278</td>\n",
       "      <td>AGG</td>\n",
       "    </tr>\n",
       "    <tr>\n",
       "      <th>2022-10-27 04:00:00+00:00</th>\n",
       "      <td>383.07</td>\n",
       "      <td>385.0000</td>\n",
       "      <td>379.33</td>\n",
       "      <td>379.98</td>\n",
       "      <td>81650038</td>\n",
       "      <td>599316</td>\n",
       "      <td>381.339490</td>\n",
       "      <td>SPY</td>\n",
       "    </tr>\n",
       "  </tbody>\n",
       "</table>\n",
       "</div>"
      ],
      "text/plain": [
       "                             open      high     low   close    volume  \\\n",
       "timestamp                                                               \n",
       "2022-10-27 04:00:00+00:00   95.21   95.6204   94.99   95.46   6874350   \n",
       "2022-10-27 04:00:00+00:00  383.07  385.0000  379.33  379.98  81650038   \n",
       "\n",
       "                           trade_count        vwap symbol  \n",
       "timestamp                                                  \n",
       "2022-10-27 04:00:00+00:00        22018   95.420278    AGG  \n",
       "2022-10-27 04:00:00+00:00       599316  381.339490    SPY  "
      ]
     },
     "execution_count": 10,
     "metadata": {},
     "output_type": "execute_result"
    }
   ],
   "source": [
    "# Get current closing prices for SPY and AGG\n",
    "df_portfolio = alpaca.get_bars(\n",
    "    tickers,\n",
    "    timeframe,\n",
    "    start = today,\n",
    "    end = today\n",
    ").df\n",
    "df_portfolio"
   ]
  },
  {
   "cell_type": "code",
   "execution_count": 11,
   "metadata": {},
   "outputs": [
    {
     "data": {
      "text/html": [
       "<div>\n",
       "<style scoped>\n",
       "    .dataframe tbody tr th:only-of-type {\n",
       "        vertical-align: middle;\n",
       "    }\n",
       "\n",
       "    .dataframe tbody tr th {\n",
       "        vertical-align: top;\n",
       "    }\n",
       "\n",
       "    .dataframe thead tr th {\n",
       "        text-align: left;\n",
       "    }\n",
       "\n",
       "    .dataframe thead tr:last-of-type th {\n",
       "        text-align: right;\n",
       "    }\n",
       "</style>\n",
       "<table border=\"1\" class=\"dataframe\">\n",
       "  <thead>\n",
       "    <tr>\n",
       "      <th></th>\n",
       "      <th colspan=\"7\" halign=\"left\">AGG</th>\n",
       "      <th colspan=\"7\" halign=\"left\">SPY</th>\n",
       "    </tr>\n",
       "    <tr>\n",
       "      <th></th>\n",
       "      <th>open</th>\n",
       "      <th>high</th>\n",
       "      <th>low</th>\n",
       "      <th>close</th>\n",
       "      <th>volume</th>\n",
       "      <th>trade_count</th>\n",
       "      <th>vwap</th>\n",
       "      <th>open</th>\n",
       "      <th>high</th>\n",
       "      <th>low</th>\n",
       "      <th>close</th>\n",
       "      <th>volume</th>\n",
       "      <th>trade_count</th>\n",
       "      <th>vwap</th>\n",
       "    </tr>\n",
       "    <tr>\n",
       "      <th>timestamp</th>\n",
       "      <th></th>\n",
       "      <th></th>\n",
       "      <th></th>\n",
       "      <th></th>\n",
       "      <th></th>\n",
       "      <th></th>\n",
       "      <th></th>\n",
       "      <th></th>\n",
       "      <th></th>\n",
       "      <th></th>\n",
       "      <th></th>\n",
       "      <th></th>\n",
       "      <th></th>\n",
       "      <th></th>\n",
       "    </tr>\n",
       "  </thead>\n",
       "  <tbody>\n",
       "    <tr>\n",
       "      <th>2022-10-27 04:00:00+00:00</th>\n",
       "      <td>95.21</td>\n",
       "      <td>95.6204</td>\n",
       "      <td>94.99</td>\n",
       "      <td>95.46</td>\n",
       "      <td>6874350</td>\n",
       "      <td>22018</td>\n",
       "      <td>95.420278</td>\n",
       "      <td>383.07</td>\n",
       "      <td>385.0</td>\n",
       "      <td>379.33</td>\n",
       "      <td>379.98</td>\n",
       "      <td>81650038</td>\n",
       "      <td>599316</td>\n",
       "      <td>381.33949</td>\n",
       "    </tr>\n",
       "  </tbody>\n",
       "</table>\n",
       "</div>"
      ],
      "text/plain": [
       "                             AGG                                              \\\n",
       "                            open     high    low  close   volume trade_count   \n",
       "timestamp                                                                      \n",
       "2022-10-27 04:00:00+00:00  95.21  95.6204  94.99  95.46  6874350       22018   \n",
       "\n",
       "                                         SPY                                   \\\n",
       "                                vwap    open   high     low   close    volume   \n",
       "timestamp                                                                       \n",
       "2022-10-27 04:00:00+00:00  95.420278  383.07  385.0  379.33  379.98  81650038   \n",
       "\n",
       "                                                  \n",
       "                          trade_count       vwap  \n",
       "timestamp                                         \n",
       "2022-10-27 04:00:00+00:00      599316  381.33949  "
      ]
     },
     "execution_count": 11,
     "metadata": {},
     "output_type": "execute_result"
    }
   ],
   "source": [
    "# Reorganize the DataFrame\n",
    "# Separate ticker data\n",
    "AGG = df_portfolio[df_portfolio['symbol']=='AGG'].drop('symbol', axis='columns')\n",
    "SPY = df_portfolio[df_portfolio['symbol']=='SPY'].drop('symbol', axis='columns')\n",
    "\n",
    "# Concatenate the ticker DataFrames\n",
    "df_portfolio = pd.concat([AGG, SPY],axis=1, keys=tickers)\n",
    "\n",
    "# Preview DataFrame\n",
    "df_portfolio"
   ]
  },
  {
   "cell_type": "code",
   "execution_count": 12,
   "metadata": {},
   "outputs": [
    {
     "name": "stdout",
     "output_type": "stream",
     "text": [
      "Current AGG closing price: $95.46\n",
      "Current SPY closing price: $379.98\n"
     ]
    }
   ],
   "source": [
    "# Pick AGG and SPY close prices\n",
    "agg_close_price = float(df_portfolio['AGG']['close'])\n",
    "spy_close_price = float(df_portfolio['SPY']['close'])\n",
    "\n",
    "# Print AGG and SPY close prices\n",
    "print(f\"Current AGG closing price: ${agg_close_price}\")\n",
    "print(f\"Current SPY closing price: ${spy_close_price}\")"
   ]
  },
  {
   "cell_type": "code",
   "execution_count": 13,
   "metadata": {},
   "outputs": [
    {
     "name": "stdout",
     "output_type": "stream",
     "text": [
      "The current value of your 100 SPY shares is $37998.00\n",
      "The current value of your 200 AGG shares is $19092.00\n"
     ]
    }
   ],
   "source": [
    "# Set current amount of shares\n",
    "my_agg = 200\n",
    "my_spy = 100\n",
    "\n",
    "# Compute the current value of shares\n",
    "my_agg_value = my_agg * agg_close_price\n",
    "my_spy_value = my_spy * spy_close_price\n",
    "\n",
    "# Print current value of shares\n",
    "print(f\"The current value of your {my_spy} SPY shares is ${my_spy_value:0.2f}\")\n",
    "print(f\"The current value of your {my_agg} AGG shares is ${my_agg_value:0.2f}\")"
   ]
  },
  {
   "cell_type": "markdown",
   "metadata": {},
   "source": [
    "### Savings Health Analysis"
   ]
  },
  {
   "cell_type": "code",
   "execution_count": 14,
   "metadata": {},
   "outputs": [
    {
     "data": {
      "text/html": [
       "<div>\n",
       "<style scoped>\n",
       "    .dataframe tbody tr th:only-of-type {\n",
       "        vertical-align: middle;\n",
       "    }\n",
       "\n",
       "    .dataframe tbody tr th {\n",
       "        vertical-align: top;\n",
       "    }\n",
       "\n",
       "    .dataframe thead th {\n",
       "        text-align: right;\n",
       "    }\n",
       "</style>\n",
       "<table border=\"1\" class=\"dataframe\">\n",
       "  <thead>\n",
       "    <tr style=\"text-align: right;\">\n",
       "      <th></th>\n",
       "      <th>BTC</th>\n",
       "      <th>ETH</th>\n",
       "      <th>AGG</th>\n",
       "      <th>SPY</th>\n",
       "    </tr>\n",
       "  </thead>\n",
       "  <tbody>\n",
       "    <tr>\n",
       "      <th>value</th>\n",
       "      <td>20674.0</td>\n",
       "      <td>1596.87</td>\n",
       "      <td>19092.0</td>\n",
       "      <td>37998.0</td>\n",
       "    </tr>\n",
       "  </tbody>\n",
       "</table>\n",
       "</div>"
      ],
      "text/plain": [
       "           BTC      ETH      AGG      SPY\n",
       "value  20674.0  1596.87  19092.0  37998.0"
      ]
     },
     "metadata": {},
     "output_type": "display_data"
    }
   ],
   "source": [
    "# Consolidate financial assets data\n",
    "value_data = {\n",
    "    \"BTC\": [my_btc_value],\n",
    "    \"ETH\": [my_eth_value],\n",
    "    \"AGG\": [my_agg_value],\n",
    "    \"SPY\": [my_spy_value]\n",
    "}\n",
    "\n",
    "# Create savings DataFrame\n",
    "df_savings = pd.DataFrame(value_data, index=['value'])\n",
    "\n",
    "# Display savings DataFrame\n",
    "display(df_savings)"
   ]
  },
  {
   "cell_type": "code",
   "execution_count": 15,
   "metadata": {},
   "outputs": [
    {
     "data": {
      "text/plain": [
       "<AxesSubplot:title={'center':'Asset allocation'}, ylabel='value'>"
      ]
     },
     "execution_count": 15,
     "metadata": {},
     "output_type": "execute_result"
    },
    {
     "data": {
      "image/png": "[encoded data removed]",
      "text/plain": [
       "<Figure size 500x500 with 1 Axes>"
      ]
     },
     "metadata": {},
     "output_type": "display_data"
    }
   ],
   "source": [
    "# Plot savings pie chart\n",
    "df_savings.iloc[0].plot.pie(title='Asset allocation',autopct='%.0f%%', figsize=(5,5))"
   ]
  },
  {
   "cell_type": "code",
   "execution_count": 16,
   "metadata": {},
   "outputs": [
    {
     "data": {
      "text/plain": [
       "79360.87"
      ]
     },
     "execution_count": 16,
     "metadata": {},
     "output_type": "execute_result"
    }
   ],
   "source": [
    "# Set monthly household income\n",
    "monthly_income = 10000\n",
    "\n",
    "# Set ideal emergency fund\n",
    "emergency_fund = monthly_income * 3\n",
    "\n",
    "# Calculate total amount of savings\n",
    "total_savigns = df_savings.iloc[0].sum()\n",
    "total_savigns\n"
   ]
  },
  {
   "cell_type": "code",
   "execution_count": 17,
   "metadata": {},
   "outputs": [
    {
     "name": "stdout",
     "output_type": "stream",
     "text": [
      "Financial health is in good shape\n"
     ]
    }
   ],
   "source": [
    "# Validate saving health\n",
    "if total_savigns == emergency_fund:\n",
    "    print(\"Financial health is Borderline\")\n",
    "elif total_savigns < emergency_fund:\n",
    "    print(\"Financial health is Below safety net\")\n",
    "elif total_savigns > emergency_fund:\n",
    "    print(\"Financial health is in good shape\")"
   ]
  },
  {
   "cell_type": "markdown",
   "metadata": {},
   "source": [
    "## Part 2 - Retirement Planning\n",
    "\n",
    "### Monte Carlo Simulation"
   ]
  },
  {
   "cell_type": "code",
   "execution_count": 40,
   "metadata": {},
   "outputs": [],
   "source": [
    "# Set start and end dates of five years back from today.\n",
    "# Sample results may vary from the solution based on the time frame chosen\n",
    "start_date = pd.Timestamp('2017-10-20', tz='America/New_York').isoformat()\n",
    "end_date = pd.Timestamp('2022-10-20', tz='America/New_York').isoformat()"
   ]
  },
  {
   "cell_type": "code",
   "execution_count": 61,
   "metadata": {},
   "outputs": [
    {
     "data": {
      "text/html": [
       "<div>\n",
       "<style scoped>\n",
       "    .dataframe tbody tr th:only-of-type {\n",
       "        vertical-align: middle;\n",
       "    }\n",
       "\n",
       "    .dataframe tbody tr th {\n",
       "        vertical-align: top;\n",
       "    }\n",
       "\n",
       "    .dataframe thead th {\n",
       "        text-align: right;\n",
       "    }\n",
       "</style>\n",
       "<table border=\"1\" class=\"dataframe\">\n",
       "  <thead>\n",
       "    <tr style=\"text-align: right;\">\n",
       "      <th></th>\n",
       "      <th>open</th>\n",
       "      <th>high</th>\n",
       "      <th>low</th>\n",
       "      <th>close</th>\n",
       "      <th>volume</th>\n",
       "      <th>trade_count</th>\n",
       "      <th>vwap</th>\n",
       "      <th>symbol</th>\n",
       "    </tr>\n",
       "    <tr>\n",
       "      <th>timestamp</th>\n",
       "      <th></th>\n",
       "      <th></th>\n",
       "      <th></th>\n",
       "      <th></th>\n",
       "      <th></th>\n",
       "      <th></th>\n",
       "      <th></th>\n",
       "      <th></th>\n",
       "    </tr>\n",
       "  </thead>\n",
       "  <tbody>\n",
       "    <tr>\n",
       "      <th>2017-10-20 04:00:00+00:00</th>\n",
       "      <td>109.32</td>\n",
       "      <td>109.4050</td>\n",
       "      <td>109.2600</td>\n",
       "      <td>109.30</td>\n",
       "      <td>2014321</td>\n",
       "      <td>9709</td>\n",
       "      <td>109.323959</td>\n",
       "      <td>AGG</td>\n",
       "    </tr>\n",
       "    <tr>\n",
       "      <th>2017-10-23 04:00:00+00:00</th>\n",
       "      <td>109.40</td>\n",
       "      <td>109.4700</td>\n",
       "      <td>109.3600</td>\n",
       "      <td>109.42</td>\n",
       "      <td>2024767</td>\n",
       "      <td>9208</td>\n",
       "      <td>109.404970</td>\n",
       "      <td>AGG</td>\n",
       "    </tr>\n",
       "    <tr>\n",
       "      <th>2017-10-24 04:00:00+00:00</th>\n",
       "      <td>109.23</td>\n",
       "      <td>109.2900</td>\n",
       "      <td>109.1700</td>\n",
       "      <td>109.19</td>\n",
       "      <td>1722478</td>\n",
       "      <td>8486</td>\n",
       "      <td>109.230095</td>\n",
       "      <td>AGG</td>\n",
       "    </tr>\n",
       "    <tr>\n",
       "      <th>2017-10-25 04:00:00+00:00</th>\n",
       "      <td>108.96</td>\n",
       "      <td>109.1300</td>\n",
       "      <td>108.9500</td>\n",
       "      <td>109.12</td>\n",
       "      <td>2945420</td>\n",
       "      <td>12461</td>\n",
       "      <td>109.043379</td>\n",
       "      <td>AGG</td>\n",
       "    </tr>\n",
       "    <tr>\n",
       "      <th>2017-10-26 04:00:00+00:00</th>\n",
       "      <td>109.20</td>\n",
       "      <td>109.2290</td>\n",
       "      <td>108.9800</td>\n",
       "      <td>109.00</td>\n",
       "      <td>2163496</td>\n",
       "      <td>8113</td>\n",
       "      <td>109.051672</td>\n",
       "      <td>AGG</td>\n",
       "    </tr>\n",
       "    <tr>\n",
       "      <th>...</th>\n",
       "      <td>...</td>\n",
       "      <td>...</td>\n",
       "      <td>...</td>\n",
       "      <td>...</td>\n",
       "      <td>...</td>\n",
       "      <td>...</td>\n",
       "      <td>...</td>\n",
       "      <td>...</td>\n",
       "    </tr>\n",
       "    <tr>\n",
       "      <th>2022-10-14 04:00:00+00:00</th>\n",
       "      <td>368.55</td>\n",
       "      <td>370.2600</td>\n",
       "      <td>356.9600</td>\n",
       "      <td>357.63</td>\n",
       "      <td>122920585</td>\n",
       "      <td>818595</td>\n",
       "      <td>361.365272</td>\n",
       "      <td>SPY</td>\n",
       "    </tr>\n",
       "    <tr>\n",
       "      <th>2022-10-17 04:00:00+00:00</th>\n",
       "      <td>364.01</td>\n",
       "      <td>367.9799</td>\n",
       "      <td>357.2808</td>\n",
       "      <td>366.82</td>\n",
       "      <td>92765345</td>\n",
       "      <td>609955</td>\n",
       "      <td>365.954505</td>\n",
       "      <td>SPY</td>\n",
       "    </tr>\n",
       "    <tr>\n",
       "      <th>2022-10-18 04:00:00+00:00</th>\n",
       "      <td>375.13</td>\n",
       "      <td>375.4500</td>\n",
       "      <td>367.5200</td>\n",
       "      <td>371.13</td>\n",
       "      <td>96898206</td>\n",
       "      <td>675916</td>\n",
       "      <td>371.126991</td>\n",
       "      <td>SPY</td>\n",
       "    </tr>\n",
       "    <tr>\n",
       "      <th>2022-10-19 04:00:00+00:00</th>\n",
       "      <td>368.99</td>\n",
       "      <td>371.8500</td>\n",
       "      <td>365.5500</td>\n",
       "      <td>368.50</td>\n",
       "      <td>79481512</td>\n",
       "      <td>531675</td>\n",
       "      <td>368.665769</td>\n",
       "      <td>SPY</td>\n",
       "    </tr>\n",
       "    <tr>\n",
       "      <th>2022-10-20 04:00:00+00:00</th>\n",
       "      <td>368.03</td>\n",
       "      <td>372.6700</td>\n",
       "      <td>364.6100</td>\n",
       "      <td>365.41</td>\n",
       "      <td>87963935</td>\n",
       "      <td>634944</td>\n",
       "      <td>367.710482</td>\n",
       "      <td>SPY</td>\n",
       "    </tr>\n",
       "  </tbody>\n",
       "</table>\n",
       "<p>2518 rows × 8 columns</p>\n",
       "</div>"
      ],
      "text/plain": [
       "                             open      high       low   close     volume  \\\n",
       "timestamp                                                                  \n",
       "2017-10-20 04:00:00+00:00  109.32  109.4050  109.2600  109.30    2014321   \n",
       "2017-10-23 04:00:00+00:00  109.40  109.4700  109.3600  109.42    2024767   \n",
       "2017-10-24 04:00:00+00:00  109.23  109.2900  109.1700  109.19    1722478   \n",
       "2017-10-25 04:00:00+00:00  108.96  109.1300  108.9500  109.12    2945420   \n",
       "2017-10-26 04:00:00+00:00  109.20  109.2290  108.9800  109.00    2163496   \n",
       "...                           ...       ...       ...     ...        ...   \n",
       "2022-10-14 04:00:00+00:00  368.55  370.2600  356.9600  357.63  122920585   \n",
       "2022-10-17 04:00:00+00:00  364.01  367.9799  357.2808  366.82   92765345   \n",
       "2022-10-18 04:00:00+00:00  375.13  375.4500  367.5200  371.13   96898206   \n",
       "2022-10-19 04:00:00+00:00  368.99  371.8500  365.5500  368.50   79481512   \n",
       "2022-10-20 04:00:00+00:00  368.03  372.6700  364.6100  365.41   87963935   \n",
       "\n",
       "                           trade_count        vwap symbol  \n",
       "timestamp                                                  \n",
       "2017-10-20 04:00:00+00:00         9709  109.323959    AGG  \n",
       "2017-10-23 04:00:00+00:00         9208  109.404970    AGG  \n",
       "2017-10-24 04:00:00+00:00         8486  109.230095    AGG  \n",
       "2017-10-25 04:00:00+00:00        12461  109.043379    AGG  \n",
       "2017-10-26 04:00:00+00:00         8113  109.051672    AGG  \n",
       "...                                ...         ...    ...  \n",
       "2022-10-14 04:00:00+00:00       818595  361.365272    SPY  \n",
       "2022-10-17 04:00:00+00:00       609955  365.954505    SPY  \n",
       "2022-10-18 04:00:00+00:00       675916  371.126991    SPY  \n",
       "2022-10-19 04:00:00+00:00       531675  368.665769    SPY  \n",
       "2022-10-20 04:00:00+00:00       634944  367.710482    SPY  \n",
       "\n",
       "[2518 rows x 8 columns]"
      ]
     },
     "execution_count": 61,
     "metadata": {},
     "output_type": "execute_result"
    }
   ],
   "source": [
    "# Get 5 years' worth of historical data for SPY and AGG\n",
    "df_stock_data = alpaca.get_bars(\n",
    "    tickers,\n",
    "    timeframe,\n",
    "    start = start_date,\n",
    "    end = end_date\n",
    ").df\n",
    "df_stock_data"
   ]
  },
  {
   "cell_type": "code",
   "execution_count": 62,
   "metadata": {},
   "outputs": [
    {
     "data": {
      "text/html": [
       "<div>\n",
       "<style scoped>\n",
       "    .dataframe tbody tr th:only-of-type {\n",
       "        vertical-align: middle;\n",
       "    }\n",
       "\n",
       "    .dataframe tbody tr th {\n",
       "        vertical-align: top;\n",
       "    }\n",
       "\n",
       "    .dataframe thead tr th {\n",
       "        text-align: left;\n",
       "    }\n",
       "\n",
       "    .dataframe thead tr:last-of-type th {\n",
       "        text-align: right;\n",
       "    }\n",
       "</style>\n",
       "<table border=\"1\" class=\"dataframe\">\n",
       "  <thead>\n",
       "    <tr>\n",
       "      <th></th>\n",
       "      <th colspan=\"7\" halign=\"left\">AGG</th>\n",
       "      <th colspan=\"7\" halign=\"left\">SPY</th>\n",
       "    </tr>\n",
       "    <tr>\n",
       "      <th></th>\n",
       "      <th>open</th>\n",
       "      <th>high</th>\n",
       "      <th>low</th>\n",
       "      <th>close</th>\n",
       "      <th>volume</th>\n",
       "      <th>trade_count</th>\n",
       "      <th>vwap</th>\n",
       "      <th>open</th>\n",
       "      <th>high</th>\n",
       "      <th>low</th>\n",
       "      <th>close</th>\n",
       "      <th>volume</th>\n",
       "      <th>trade_count</th>\n",
       "      <th>vwap</th>\n",
       "    </tr>\n",
       "    <tr>\n",
       "      <th>timestamp</th>\n",
       "      <th></th>\n",
       "      <th></th>\n",
       "      <th></th>\n",
       "      <th></th>\n",
       "      <th></th>\n",
       "      <th></th>\n",
       "      <th></th>\n",
       "      <th></th>\n",
       "      <th></th>\n",
       "      <th></th>\n",
       "      <th></th>\n",
       "      <th></th>\n",
       "      <th></th>\n",
       "      <th></th>\n",
       "    </tr>\n",
       "  </thead>\n",
       "  <tbody>\n",
       "    <tr>\n",
       "      <th>2017-10-20 04:00:00+00:00</th>\n",
       "      <td>109.32</td>\n",
       "      <td>109.405</td>\n",
       "      <td>109.26</td>\n",
       "      <td>109.30</td>\n",
       "      <td>2014321</td>\n",
       "      <td>9709</td>\n",
       "      <td>109.323959</td>\n",
       "      <td>256.70</td>\n",
       "      <td>257.14</td>\n",
       "      <td>255.7744</td>\n",
       "      <td>257.07</td>\n",
       "      <td>89178367</td>\n",
       "      <td>196614</td>\n",
       "      <td>256.766187</td>\n",
       "    </tr>\n",
       "    <tr>\n",
       "      <th>2017-10-23 04:00:00+00:00</th>\n",
       "      <td>109.40</td>\n",
       "      <td>109.470</td>\n",
       "      <td>109.36</td>\n",
       "      <td>109.42</td>\n",
       "      <td>2024767</td>\n",
       "      <td>9208</td>\n",
       "      <td>109.404970</td>\n",
       "      <td>257.51</td>\n",
       "      <td>257.51</td>\n",
       "      <td>256.0200</td>\n",
       "      <td>256.16</td>\n",
       "      <td>64001716</td>\n",
       "      <td>196938</td>\n",
       "      <td>256.704266</td>\n",
       "    </tr>\n",
       "    <tr>\n",
       "      <th>2017-10-24 04:00:00+00:00</th>\n",
       "      <td>109.23</td>\n",
       "      <td>109.290</td>\n",
       "      <td>109.17</td>\n",
       "      <td>109.19</td>\n",
       "      <td>1722478</td>\n",
       "      <td>8486</td>\n",
       "      <td>109.230095</td>\n",
       "      <td>256.59</td>\n",
       "      <td>256.83</td>\n",
       "      <td>256.1500</td>\n",
       "      <td>256.55</td>\n",
       "      <td>69886571</td>\n",
       "      <td>193871</td>\n",
       "      <td>256.490281</td>\n",
       "    </tr>\n",
       "    <tr>\n",
       "      <th>2017-10-25 04:00:00+00:00</th>\n",
       "      <td>108.96</td>\n",
       "      <td>109.130</td>\n",
       "      <td>108.95</td>\n",
       "      <td>109.12</td>\n",
       "      <td>2945420</td>\n",
       "      <td>12461</td>\n",
       "      <td>109.043379</td>\n",
       "      <td>256.18</td>\n",
       "      <td>256.31</td>\n",
       "      <td>254.0000</td>\n",
       "      <td>255.32</td>\n",
       "      <td>103740803</td>\n",
       "      <td>318607</td>\n",
       "      <td>255.251326</td>\n",
       "    </tr>\n",
       "    <tr>\n",
       "      <th>2017-10-26 04:00:00+00:00</th>\n",
       "      <td>109.20</td>\n",
       "      <td>109.229</td>\n",
       "      <td>108.98</td>\n",
       "      <td>109.00</td>\n",
       "      <td>2163496</td>\n",
       "      <td>8113</td>\n",
       "      <td>109.051672</td>\n",
       "      <td>255.99</td>\n",
       "      <td>256.30</td>\n",
       "      <td>255.4800</td>\n",
       "      <td>255.48</td>\n",
       "      <td>71854886</td>\n",
       "      <td>178431</td>\n",
       "      <td>255.755127</td>\n",
       "    </tr>\n",
       "  </tbody>\n",
       "</table>\n",
       "</div>"
      ],
      "text/plain": [
       "                              AGG                                    \\\n",
       "                             open     high     low   close   volume   \n",
       "timestamp                                                             \n",
       "2017-10-20 04:00:00+00:00  109.32  109.405  109.26  109.30  2014321   \n",
       "2017-10-23 04:00:00+00:00  109.40  109.470  109.36  109.42  2024767   \n",
       "2017-10-24 04:00:00+00:00  109.23  109.290  109.17  109.19  1722478   \n",
       "2017-10-25 04:00:00+00:00  108.96  109.130  108.95  109.12  2945420   \n",
       "2017-10-26 04:00:00+00:00  109.20  109.229  108.98  109.00  2163496   \n",
       "\n",
       "                                                      SPY                    \\\n",
       "                          trade_count        vwap    open    high       low   \n",
       "timestamp                                                                     \n",
       "2017-10-20 04:00:00+00:00        9709  109.323959  256.70  257.14  255.7744   \n",
       "2017-10-23 04:00:00+00:00        9208  109.404970  257.51  257.51  256.0200   \n",
       "2017-10-24 04:00:00+00:00        8486  109.230095  256.59  256.83  256.1500   \n",
       "2017-10-25 04:00:00+00:00       12461  109.043379  256.18  256.31  254.0000   \n",
       "2017-10-26 04:00:00+00:00        8113  109.051672  255.99  256.30  255.4800   \n",
       "\n",
       "                                                                      \n",
       "                            close     volume trade_count        vwap  \n",
       "timestamp                                                             \n",
       "2017-10-20 04:00:00+00:00  257.07   89178367      196614  256.766187  \n",
       "2017-10-23 04:00:00+00:00  256.16   64001716      196938  256.704266  \n",
       "2017-10-24 04:00:00+00:00  256.55   69886571      193871  256.490281  \n",
       "2017-10-25 04:00:00+00:00  255.32  103740803      318607  255.251326  \n",
       "2017-10-26 04:00:00+00:00  255.48   71854886      178431  255.755127  "
      ]
     },
     "execution_count": 62,
     "metadata": {},
     "output_type": "execute_result"
    }
   ],
   "source": [
    "# Reorganize the DataFrame\n",
    "# Separate ticker data\n",
    "AGG = df_stock_data[df_stock_data['symbol']=='AGG'].drop('symbol', axis='columns')\n",
    "SPY = df_stock_data[df_stock_data['symbol']=='SPY'].drop('symbol', axis='columns')\n",
    "\n",
    "# Concatenate the ticker DataFrames\n",
    "df_stock_data = pd.concat([AGG, SPY], axis=1, keys=tickers)\n",
    "\n",
    "# Display sample data\n",
    "df_stock_data.head()"
   ]
  },
  {
   "cell_type": "code",
   "execution_count": 64,
   "metadata": {},
   "outputs": [],
   "source": [
    "# Configuring a Monte Carlo simulation to forecast 30 years cumulative returns\n",
    "\n",
    "ignore = [\"open\",\"high\",\"low\",\"volume\",\"trade_count\", \"vwap\"]\n",
    "\n",
    "for x in tickers:\n",
    "    for y in ignore:\n",
    "       df_stock_data.drop(columns = (x,y), inplace = True)"
   ]
  },
  {
   "cell_type": "code",
   "execution_count": 65,
   "metadata": {},
   "outputs": [],
   "source": [
    "fcst_30yr = MCSimulation(portfolio_data = df_stock_data,\n",
    "                      num_simulation = 10,\n",
    "                      num_trading_days = 252*30\n",
    "                      )"
   ]
  },
  {
   "cell_type": "code",
   "execution_count": 66,
   "metadata": {
    "tags": []
   },
   "outputs": [
    {
     "data": {
      "text/html": [
       "<div>\n",
       "<style scoped>\n",
       "    .dataframe tbody tr th:only-of-type {\n",
       "        vertical-align: middle;\n",
       "    }\n",
       "\n",
       "    .dataframe tbody tr th {\n",
       "        vertical-align: top;\n",
       "    }\n",
       "\n",
       "    .dataframe thead tr th {\n",
       "        text-align: left;\n",
       "    }\n",
       "\n",
       "    .dataframe thead tr:last-of-type th {\n",
       "        text-align: right;\n",
       "    }\n",
       "</style>\n",
       "<table border=\"1\" class=\"dataframe\">\n",
       "  <thead>\n",
       "    <tr>\n",
       "      <th></th>\n",
       "      <th colspan=\"2\" halign=\"left\">AGG</th>\n",
       "      <th colspan=\"2\" halign=\"left\">SPY</th>\n",
       "    </tr>\n",
       "    <tr>\n",
       "      <th></th>\n",
       "      <th>close</th>\n",
       "      <th>daily_return</th>\n",
       "      <th>close</th>\n",
       "      <th>daily_return</th>\n",
       "    </tr>\n",
       "    <tr>\n",
       "      <th>timestamp</th>\n",
       "      <th></th>\n",
       "      <th></th>\n",
       "      <th></th>\n",
       "      <th></th>\n",
       "    </tr>\n",
       "  </thead>\n",
       "  <tbody>\n",
       "    <tr>\n",
       "      <th>2017-10-20 04:00:00+00:00</th>\n",
       "      <td>109.30</td>\n",
       "      <td>NaN</td>\n",
       "      <td>257.07</td>\n",
       "      <td>NaN</td>\n",
       "    </tr>\n",
       "    <tr>\n",
       "      <th>2017-10-23 04:00:00+00:00</th>\n",
       "      <td>109.42</td>\n",
       "      <td>0.001098</td>\n",
       "      <td>256.16</td>\n",
       "      <td>-0.003540</td>\n",
       "    </tr>\n",
       "    <tr>\n",
       "      <th>2017-10-24 04:00:00+00:00</th>\n",
       "      <td>109.19</td>\n",
       "      <td>-0.002102</td>\n",
       "      <td>256.55</td>\n",
       "      <td>0.001522</td>\n",
       "    </tr>\n",
       "    <tr>\n",
       "      <th>2017-10-25 04:00:00+00:00</th>\n",
       "      <td>109.12</td>\n",
       "      <td>-0.000641</td>\n",
       "      <td>255.32</td>\n",
       "      <td>-0.004794</td>\n",
       "    </tr>\n",
       "    <tr>\n",
       "      <th>2017-10-26 04:00:00+00:00</th>\n",
       "      <td>109.00</td>\n",
       "      <td>-0.001100</td>\n",
       "      <td>255.48</td>\n",
       "      <td>0.000627</td>\n",
       "    </tr>\n",
       "  </tbody>\n",
       "</table>\n",
       "</div>"
      ],
      "text/plain": [
       "                              AGG                  SPY             \n",
       "                            close daily_return   close daily_return\n",
       "timestamp                                                          \n",
       "2017-10-20 04:00:00+00:00  109.30          NaN  257.07          NaN\n",
       "2017-10-23 04:00:00+00:00  109.42     0.001098  256.16    -0.003540\n",
       "2017-10-24 04:00:00+00:00  109.19    -0.002102  256.55     0.001522\n",
       "2017-10-25 04:00:00+00:00  109.12    -0.000641  255.32    -0.004794\n",
       "2017-10-26 04:00:00+00:00  109.00    -0.001100  255.48     0.000627"
      ]
     },
     "execution_count": 66,
     "metadata": {},
     "output_type": "execute_result"
    }
   ],
   "source": [
    "# Printing the simulation input data\n",
    "fcst_30yr.portfolio_data.head()"
   ]
  },
  {
   "cell_type": "code",
   "execution_count": 67,
   "metadata": {},
   "outputs": [
    {
     "name": "stdout",
     "output_type": "stream",
     "text": [
      "Running Monte Carlo simulation number 0.\n"
     ]
    },
    {
     "data": {
      "text/html": [
       "<div>\n",
       "<style scoped>\n",
       "    .dataframe tbody tr th:only-of-type {\n",
       "        vertical-align: middle;\n",
       "    }\n",
       "\n",
       "    .dataframe tbody tr th {\n",
       "        vertical-align: top;\n",
       "    }\n",
       "\n",
       "    .dataframe thead th {\n",
       "        text-align: right;\n",
       "    }\n",
       "</style>\n",
       "<table border=\"1\" class=\"dataframe\">\n",
       "  <thead>\n",
       "    <tr style=\"text-align: right;\">\n",
       "      <th></th>\n",
       "      <th>0</th>\n",
       "      <th>1</th>\n",
       "      <th>2</th>\n",
       "      <th>3</th>\n",
       "      <th>4</th>\n",
       "      <th>5</th>\n",
       "      <th>6</th>\n",
       "      <th>7</th>\n",
       "      <th>8</th>\n",
       "      <th>9</th>\n",
       "    </tr>\n",
       "  </thead>\n",
       "  <tbody>\n",
       "    <tr>\n",
       "      <th>0</th>\n",
       "      <td>1.000000</td>\n",
       "      <td>1.000000</td>\n",
       "      <td>1.000000</td>\n",
       "      <td>1.000000</td>\n",
       "      <td>1.000000</td>\n",
       "      <td>1.000000</td>\n",
       "      <td>1.000000</td>\n",
       "      <td>1.000000</td>\n",
       "      <td>1.000000</td>\n",
       "      <td>1.000000</td>\n",
       "    </tr>\n",
       "    <tr>\n",
       "      <th>1</th>\n",
       "      <td>0.998423</td>\n",
       "      <td>1.005007</td>\n",
       "      <td>0.993639</td>\n",
       "      <td>1.005081</td>\n",
       "      <td>0.997096</td>\n",
       "      <td>1.007644</td>\n",
       "      <td>1.001664</td>\n",
       "      <td>1.003634</td>\n",
       "      <td>1.008913</td>\n",
       "      <td>0.995144</td>\n",
       "    </tr>\n",
       "    <tr>\n",
       "      <th>2</th>\n",
       "      <td>1.006020</td>\n",
       "      <td>0.998962</td>\n",
       "      <td>0.986820</td>\n",
       "      <td>1.012084</td>\n",
       "      <td>1.005619</td>\n",
       "      <td>1.012724</td>\n",
       "      <td>1.017493</td>\n",
       "      <td>1.004854</td>\n",
       "      <td>1.005494</td>\n",
       "      <td>0.990024</td>\n",
       "    </tr>\n",
       "    <tr>\n",
       "      <th>3</th>\n",
       "      <td>1.002337</td>\n",
       "      <td>1.005457</td>\n",
       "      <td>0.989978</td>\n",
       "      <td>1.021043</td>\n",
       "      <td>1.008098</td>\n",
       "      <td>1.015112</td>\n",
       "      <td>1.008955</td>\n",
       "      <td>0.993594</td>\n",
       "      <td>1.008653</td>\n",
       "      <td>0.988378</td>\n",
       "    </tr>\n",
       "    <tr>\n",
       "      <th>4</th>\n",
       "      <td>1.001674</td>\n",
       "      <td>1.006576</td>\n",
       "      <td>0.994246</td>\n",
       "      <td>1.012957</td>\n",
       "      <td>1.003744</td>\n",
       "      <td>1.003343</td>\n",
       "      <td>1.009449</td>\n",
       "      <td>0.984575</td>\n",
       "      <td>1.011231</td>\n",
       "      <td>1.000146</td>\n",
       "    </tr>\n",
       "    <tr>\n",
       "      <th>...</th>\n",
       "      <td>...</td>\n",
       "      <td>...</td>\n",
       "      <td>...</td>\n",
       "      <td>...</td>\n",
       "      <td>...</td>\n",
       "      <td>...</td>\n",
       "      <td>...</td>\n",
       "      <td>...</td>\n",
       "      <td>...</td>\n",
       "      <td>...</td>\n",
       "    </tr>\n",
       "    <tr>\n",
       "      <th>7556</th>\n",
       "      <td>4.719653</td>\n",
       "      <td>1.040480</td>\n",
       "      <td>3.486151</td>\n",
       "      <td>1.920012</td>\n",
       "      <td>0.791635</td>\n",
       "      <td>3.129430</td>\n",
       "      <td>1.552671</td>\n",
       "      <td>2.272683</td>\n",
       "      <td>3.559755</td>\n",
       "      <td>4.649009</td>\n",
       "    </tr>\n",
       "    <tr>\n",
       "      <th>7557</th>\n",
       "      <td>4.717030</td>\n",
       "      <td>1.021810</td>\n",
       "      <td>3.535622</td>\n",
       "      <td>1.936011</td>\n",
       "      <td>0.793688</td>\n",
       "      <td>3.132022</td>\n",
       "      <td>1.545384</td>\n",
       "      <td>2.259314</td>\n",
       "      <td>3.577008</td>\n",
       "      <td>4.646063</td>\n",
       "    </tr>\n",
       "    <tr>\n",
       "      <th>7558</th>\n",
       "      <td>4.750008</td>\n",
       "      <td>1.027539</td>\n",
       "      <td>3.541275</td>\n",
       "      <td>1.929036</td>\n",
       "      <td>0.795536</td>\n",
       "      <td>3.157669</td>\n",
       "      <td>1.542702</td>\n",
       "      <td>2.259554</td>\n",
       "      <td>3.610057</td>\n",
       "      <td>4.616601</td>\n",
       "    </tr>\n",
       "    <tr>\n",
       "      <th>7559</th>\n",
       "      <td>4.782094</td>\n",
       "      <td>1.040429</td>\n",
       "      <td>3.555225</td>\n",
       "      <td>1.927856</td>\n",
       "      <td>0.792247</td>\n",
       "      <td>3.146615</td>\n",
       "      <td>1.557278</td>\n",
       "      <td>2.259632</td>\n",
       "      <td>3.644607</td>\n",
       "      <td>4.639716</td>\n",
       "    </tr>\n",
       "    <tr>\n",
       "      <th>7560</th>\n",
       "      <td>4.777496</td>\n",
       "      <td>1.034121</td>\n",
       "      <td>3.566413</td>\n",
       "      <td>1.944326</td>\n",
       "      <td>0.787967</td>\n",
       "      <td>3.147055</td>\n",
       "      <td>1.547943</td>\n",
       "      <td>2.269013</td>\n",
       "      <td>3.680334</td>\n",
       "      <td>4.613320</td>\n",
       "    </tr>\n",
       "  </tbody>\n",
       "</table>\n",
       "<p>7561 rows × 10 columns</p>\n",
       "</div>"
      ],
      "text/plain": [
       "             0         1         2         3         4         5         6  \\\n",
       "0     1.000000  1.000000  1.000000  1.000000  1.000000  1.000000  1.000000   \n",
       "1     0.998423  1.005007  0.993639  1.005081  0.997096  1.007644  1.001664   \n",
       "2     1.006020  0.998962  0.986820  1.012084  1.005619  1.012724  1.017493   \n",
       "3     1.002337  1.005457  0.989978  1.021043  1.008098  1.015112  1.008955   \n",
       "4     1.001674  1.006576  0.994246  1.012957  1.003744  1.003343  1.009449   \n",
       "...        ...       ...       ...       ...       ...       ...       ...   \n",
       "7556  4.719653  1.040480  3.486151  1.920012  0.791635  3.129430  1.552671   \n",
       "7557  4.717030  1.021810  3.535622  1.936011  0.793688  3.132022  1.545384   \n",
       "7558  4.750008  1.027539  3.541275  1.929036  0.795536  3.157669  1.542702   \n",
       "7559  4.782094  1.040429  3.555225  1.927856  0.792247  3.146615  1.557278   \n",
       "7560  4.777496  1.034121  3.566413  1.944326  0.787967  3.147055  1.547943   \n",
       "\n",
       "             7         8         9  \n",
       "0     1.000000  1.000000  1.000000  \n",
       "1     1.003634  1.008913  0.995144  \n",
       "2     1.004854  1.005494  0.990024  \n",
       "3     0.993594  1.008653  0.988378  \n",
       "4     0.984575  1.011231  1.000146  \n",
       "...        ...       ...       ...  \n",
       "7556  2.272683  3.559755  4.649009  \n",
       "7557  2.259314  3.577008  4.646063  \n",
       "7558  2.259554  3.610057  4.616601  \n",
       "7559  2.259632  3.644607  4.639716  \n",
       "7560  2.269013  3.680334  4.613320  \n",
       "\n",
       "[7561 rows x 10 columns]"
      ]
     },
     "execution_count": 67,
     "metadata": {},
     "output_type": "execute_result"
    }
   ],
   "source": [
    "# Running a Monte Carlo simulation to forecast 30 years cumulative returns\n",
    "fcst_30yr.calc_cumulative_return()"
   ]
  },
  {
   "cell_type": "code",
   "execution_count": 68,
   "metadata": {},
   "outputs": [
    {
     "data": {
      "text/plain": [
       "<AxesSubplot:title={'center':'10 Simulations of Cumulative Portfolio Return Trajectories Over the Next 7560 Trading Days.'}>"
      ]
     },
     "execution_count": 68,
     "metadata": {},
     "output_type": "execute_result"
    },
    {
     "data": {
      "image/png": "[encoded data removed]",
      "text/plain": [
       "<Figure size 640x480 with 1 Axes>"
      ]
     },
     "metadata": {},
     "output_type": "display_data"
    }
   ],
   "source": [
    "# Plot simulation outcomes\n",
    "fcst_30yr.plot_simulation()"
   ]
  },
  {
   "cell_type": "code",
   "execution_count": 69,
   "metadata": {},
   "outputs": [
    {
     "data": {
      "text/plain": [
       "<AxesSubplot:title={'center':'Distribution of Final Cumuluative Returns Across All 10 Simulations'}, ylabel='Frequency'>"
      ]
     },
     "execution_count": 69,
     "metadata": {},
     "output_type": "execute_result"
    },
    {
     "data": {
      "image/png": "[encoded data removed]",
      "text/plain": [
       "<Figure size 640x480 with 1 Axes>"
      ]
     },
     "metadata": {},
     "output_type": "display_data"
    }
   ],
   "source": [
    "# Plot probability distribution and confidence intervals\n",
    "fcst_30yr.plot_distribution()"
   ]
  },
  {
   "cell_type": "markdown",
   "metadata": {},
   "source": [
    "### Retirement Analysis"
   ]
  },
  {
   "cell_type": "code",
   "execution_count": 78,
   "metadata": {},
   "outputs": [
    {
     "name": "stderr",
     "output_type": "stream",
     "text": [
      "C:\\Users\\heyuh\\OneDrive\\Desktop\\FinTech_Bootcamp\\05_API\\Homework\\Starter_Code\\MCForecastTools.py:172: FutureWarning: The series.append method is deprecated and will be removed from pandas in a future version. Use pandas.concat instead.\n",
      "  return metrics.append(ci_series)\n"
     ]
    },
    {
     "data": {
      "text/plain": [
       "count           10.000000\n",
       "mean             2.736799\n",
       "std              1.429447\n",
       "min              0.787967\n",
       "25%              1.647039\n",
       "50%              2.708034\n",
       "75%              3.651854\n",
       "max              4.777496\n",
       "95% CI Lower     0.843352\n",
       "95% CI Upper     4.740556\n",
       "Name: 7560, dtype: float64"
      ]
     },
     "execution_count": 78,
     "metadata": {},
     "output_type": "execute_result"
    }
   ],
   "source": [
    "# Fetch summary statistics from the Monte Carlo simulation results\n",
    "# Print summary statistics\n",
    "fcst_30yr_stat = fcst_30yr.summarize_cumulative_return()\n",
    "fcst_30yr_stat"
   ]
  },
  {
   "cell_type": "markdown",
   "metadata": {},
   "source": [
    "### Calculate the expected portfolio return at the `95%` lower and upper confidence intervals based on a `$20,000` initial investment."
   ]
  },
  {
   "cell_type": "code",
   "execution_count": 79,
   "metadata": {},
   "outputs": [
    {
     "name": "stdout",
     "output_type": "stream",
     "text": [
      "There is a 95% chance that an initial investment of $20000 in the portfolio over the next 30 years will end within in the range of $16,867 and $94,811\n"
     ]
    }
   ],
   "source": [
    "# Set initial investment\n",
    "initial_investment = 20000\n",
    "\n",
    "# Use the lower and upper `95%` confidence intervals to calculate the range of the possible outcomes of our $20,000\n",
    "ci_lower = fcst_30yr_stat[8] * initial_investment \n",
    "ci_upper = fcst_30yr_stat[9]*  initial_investment \n",
    "\n",
    "# Print results\n",
    "print(f\"There is a 95% chance that an initial investment of ${initial_investment} in the portfolio\"\n",
    "      f\" over the next 30 years will end within in the range of\"\n",
    "      f\" ${ci_lower:,.0f} and ${ci_upper:,.0f}\")"
   ]
  },
  {
   "cell_type": "markdown",
   "metadata": {},
   "source": [
    "### Calculate the expected portfolio return at the `95%` lower and upper confidence intervals based on a `50%` increase in the initial investment."
   ]
  },
  {
   "cell_type": "code",
   "execution_count": 81,
   "metadata": {},
   "outputs": [
    {
     "name": "stdout",
     "output_type": "stream",
     "text": [
      "There is a 95% chance that an initial investment of $30000.0 in the portfolio over the next 30 years will end within in the range of $25,301 and $142,217\n"
     ]
    }
   ],
   "source": [
    "# Set initial investment\n",
    "initial_investment = 20000 * 1.5\n",
    "\n",
    "# Use the lower and upper `95%` confidence intervals to calculate the range of the possible outcomes of our $30,000\n",
    "ci_lower = fcst_30yr_stat[8] * initial_investment \n",
    "ci_upper = fcst_30yr_stat[9]*  initial_investment \n",
    "\n",
    "# Print results\n",
    "print(f\"There is a 95% chance that an initial investment of ${initial_investment} in the portfolio\"\n",
    "      f\" over the next 30 years will end within in the range of\"\n",
    "      f\" ${ci_lower:,.0f} and ${ci_upper:,.0f}\")"
   ]
  },
  {
   "cell_type": "markdown",
   "metadata": {},
   "source": [
    "## Optional Challenge - Early Retirement\n",
    "\n",
    "\n",
    "### Five Years Retirement Option"
   ]
  },
  {
   "cell_type": "code",
   "execution_count": null,
   "metadata": {},
   "outputs": [],
   "source": [
    "# Configuring a Monte Carlo simulation to forecast 5 years cumulative returns\n",
    "# YOUR CODE HERE!"
   ]
  },
  {
   "cell_type": "code",
   "execution_count": null,
   "metadata": {},
   "outputs": [],
   "source": [
    "# Running a Monte Carlo simulation to forecast 5 years cumulative returns\n",
    "# YOUR CODE HERE!"
   ]
  },
  {
   "cell_type": "code",
   "execution_count": null,
   "metadata": {},
   "outputs": [],
   "source": [
    "# Plot simulation outcomes\n",
    "# YOUR CODE HERE!"
   ]
  },
  {
   "cell_type": "code",
   "execution_count": null,
   "metadata": {},
   "outputs": [],
   "source": [
    "# Plot probability distribution and confidence intervals\n",
    "# YOUR CODE HERE!"
   ]
  },
  {
   "cell_type": "code",
   "execution_count": null,
   "metadata": {},
   "outputs": [],
   "source": [
    "# Fetch summary statistics from the Monte Carlo simulation results\n",
    "# YOUR CODE HERE!\n",
    "\n",
    "# Print summary statistics\n",
    "# YOUR CODE HERE!"
   ]
  },
  {
   "cell_type": "code",
   "execution_count": null,
   "metadata": {},
   "outputs": [],
   "source": [
    "# Set initial investment\n",
    "# YOUR CODE HERE!\n",
    "\n",
    "# Use the lower and upper `95%` confidence intervals to calculate the range of the possible outcomes of our $60,000\n",
    "# YOUR CODE HERE!\n",
    "\n",
    "# Print results\n",
    "print(f\"There is a 95% chance that an initial investment of ${initial_investment} in the portfolio\"\n",
    "      f\" over the next 5 years will end within in the range of\"\n",
    "      f\" ${ci_lower_five} and ${ci_upper_five}\")"
   ]
  },
  {
   "cell_type": "markdown",
   "metadata": {},
   "source": [
    "### Ten Years Retirement Option"
   ]
  },
  {
   "cell_type": "code",
   "execution_count": null,
   "metadata": {},
   "outputs": [],
   "source": [
    "# Configuring a Monte Carlo simulation to forecast 10 years cumulative returns\n",
    "# YOUR CODE HERE!"
   ]
  },
  {
   "cell_type": "code",
   "execution_count": null,
   "metadata": {},
   "outputs": [],
   "source": [
    "# Running a Monte Carlo simulation to forecast 10 years cumulative returns\n",
    "# YOUR CODE HERE!"
   ]
  },
  {
   "cell_type": "code",
   "execution_count": null,
   "metadata": {},
   "outputs": [],
   "source": [
    "# Plot simulation outcomes\n",
    "# YOUR CODE HERE!"
   ]
  },
  {
   "cell_type": "code",
   "execution_count": null,
   "metadata": {},
   "outputs": [],
   "source": [
    "# Plot probability distribution and confidence intervals\n",
    "# YOUR CODE HERE!"
   ]
  },
  {
   "cell_type": "code",
   "execution_count": null,
   "metadata": {},
   "outputs": [],
   "source": [
    "# Fetch summary statistics from the Monte Carlo simulation results\n",
    "# YOUR CODE HERE!\n",
    "\n",
    "# Print summary statistics\n",
    "# YOUR CODE HERE!"
   ]
  },
  {
   "cell_type": "code",
   "execution_count": null,
   "metadata": {},
   "outputs": [],
   "source": [
    "# Set initial investment\n",
    "# YOUR CODE HERE!\n",
    "\n",
    "# Use the lower and upper `95%` confidence intervals to calculate the range of the possible outcomes of our $60,000\n",
    "# YOUR CODE HERE!\n",
    "\n",
    "# Print results\n",
    "print(f\"There is a 95% chance that an initial investment of ${initial_investment} in the portfolio\"\n",
    "      f\" over the next 10 years will end within in the range of\"\n",
    "      f\" ${ci_lower_ten} and ${ci_upper_ten}\")"
   ]
  },
  {
   "cell_type": "code",
   "execution_count": null,
   "metadata": {},
   "outputs": [],
   "source": []
  }
 ],
 "metadata": {
  "kernelspec": {
   "display_name": "Python 3 (ipykernel)",
   "language": "python",
   "name": "python3"
  },
  "language_info": {
   "codemirror_mode": {
    "name": "ipython",
    "version": 3
   },
   "file_extension": ".py",
   "mimetype": "text/x-python",
   "name": "python",
   "nbconvert_exporter": "python",
   "pygments_lexer": "ipython3",
   "version": "3.9.12"
  },
  "nteract": {
   "version": "0.28.0"
  }
 },
 "nbformat": 4,
 "nbformat_minor": 4
}
